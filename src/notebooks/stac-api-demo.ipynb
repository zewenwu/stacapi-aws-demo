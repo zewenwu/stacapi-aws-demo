{
 "cells": [
  {
   "cell_type": "markdown",
   "id": "379cda12",
   "metadata": {},
   "source": [
    "# Working with STAC API in AWS and S3\n",
    "\n",
    "## Introduction\n",
    "\n",
    "This notebook serves the code snippets for the following Data Scientist use-cases:\n",
    "0. **Define SageMaker Notebook connections**\n",
    "1. **Check connection to STAC API.**\n",
    "2. **Create and upload STAC catalog using PySTAC.**\n",
    "  - Importing images from external sources.\n",
    "  - Importing images from external STAC Catalog APIs.\n",
    "      - See this [tutorial for accessing NAIP data with the Planetary Computer STAC API](https://github.com/microsoft/PlanetaryComputerExamples/blob/main/datasets/naip/naip-example.ipynb)\n",
    "      - See this [tutorial for accessing 3DEP Lidar COG data with the Planetary Computer STAC API](https://github.com/microsoft/PlanetaryComputerExamples/blob/main/datasets/3dep-lidar/3dep-lidar-cog-example.ipynb)\n",
    "  - Creating STAC catalog with collection and items using PySTAC.\n",
    "      -  See this [tutorial for Create a STAC Catalog with a Collection Using PySTAC](https://stacspec.org/en/tutorials/4-create-stac-collection/)\n",
    "  -  Saving the catalog to a local directory.\n",
    "  - Upload STAC collection and items to STAC API.\n",
    "3. **Query images from STAC API.**\n",
    "  - Query based on Item ID.\n",
    "  - Query based on Intersect.\n",
    "4. **Working with STAC Collection and Items with S3 bucket.**\n",
    "  - Upload STAC collection and items to S3 bucket.\n",
    "  - Download STAC collection and items from S3 bucket.\n",
    "\n",
    "> **Remark:** This notebook should be run within the Jupyter notebook environment of SageMaker Notebook in AWS. Please upload all the necessary files in the `notebook` folder to the SageMkar Notebook instance before running.\n",
    "\n",
    "Sources:\n",
    "- [PySTAC: How to create STAC Catalogs](https://github.com/stac-utils/pystac/blob/d70dea5c70a243450ac64120e0eba84d786574b4/docs/tutorials/how-to-create-stac-catalogs.ipynb)\n",
    "- [Planet: Introduction to STAC Part 2](https://developers.planet.com/docs/planetschool/introduction-to-stac-part-2-creating-an-example-stac-catalog-of-planet-imagery-with-pystac/)\n",
    "- [Medium: Organizing Geospatial data with Spatio Temporal Assets Catalogs — STAC using python](https://towardsdatascience.com/organizing-geospatial-data-with-spatio-temporal-assets-catalogs-stac-using-python-45f1a64ca082)\n",
    "- [STAC: About STAC, The STAC Specification](https://stacspec.org/en/about/stac-spec/)\n",
    "- [EODAG: EAODAG as STAC client](https://eodag.readthedocs.io/en/stable/notebooks/tutos/tuto_stac_client.html)"
   ]
  },
  {
   "cell_type": "markdown",
   "id": "20596746",
   "metadata": {},
   "source": [
    "## 0. Define SageMaker Notebook connections\n",
    "\n",
    "The following code snippet defines the SageMaker Notebook connections to the STAC API and S3 bucket."
   ]
  },
  {
   "cell_type": "code",
   "execution_count": 1,
   "id": "bafcf4d5",
   "metadata": {},
   "outputs": [],
   "source": [
    "APP_HOST = \"http://internal-stacapi-lb-1304670335.us-east-1.elb.amazonaws.com:8080\"\n",
    "S3_BUCKET = \"data-bucket-5ndo\""
   ]
  },
  {
   "cell_type": "markdown",
   "id": "99b23168",
   "metadata": {},
   "source": [
    "## 1. Check connection to STAC API\n",
    "\n",
    "Before you follow this tutorial, you need to make sure you have access to a local or a Cloud STAC API. This section checks the connection to your STAC API."
   ]
  },
  {
   "cell_type": "code",
   "execution_count": 2,
   "id": "33e164d3",
   "metadata": {
    "tags": []
   },
   "outputs": [
    {
     "name": "stdout",
     "output_type": "stream",
     "text": [
      "STAC API is reachable. Congratulations!\n"
     ]
    }
   ],
   "source": [
    "import requests\n",
    "\n",
    "### You can use the following to programmatically check the STAC API.\n",
    "app_host = APP_HOST # Update with your STAC API endpoint.\n",
    "response = requests.get(app_host)\n",
    "if response.status_code == 200:\n",
    "    print('STAC API is reachable. Congratulations!')\n",
    "else:\n",
    "    print('STAC API is NOT reachable. Something went wrong!')"
   ]
  },
  {
   "cell_type": "markdown",
   "id": "8345bf58",
   "metadata": {},
   "source": [
    "\n",
    "## 2. Create and upload STAC catalog using PySTAC.\n",
    "### Importing images from external sources\n",
    "\n",
    "This section downloads some images from ```https://spacenet-dataset.s3.amazonaws.com```, an open S3 bucket from AWS."
   ]
  },
  {
   "cell_type": "code",
   "execution_count": 3,
   "id": "177a2759",
   "metadata": {
    "tags": []
   },
   "outputs": [],
   "source": [
    "import os\n",
    "import urllib.request\n",
    "from tempfile import TemporaryDirectory\n",
    "\n",
    "tmp_dir = \"data/user-create-catalog\"\n",
    "\n",
    "# Create folder if not exists\n",
    "if not os.path.exists(tmp_dir): os.makedirs(tmp_dir)\n",
    "    \n",
    "img_path1 = os.path.join(tmp_dir, 'image1.tif')\n",
    "img_path2 = os.path.join(tmp_dir, 'image2.tif')"
   ]
  },
  {
   "cell_type": "code",
   "execution_count": 4,
   "id": "76cd4e9e",
   "metadata": {
    "tags": []
   },
   "outputs": [
    {
     "name": "stdout",
     "output_type": "stream",
     "text": [
      "img_path1:  data/user-create-catalog/image1.tif \n",
      " img_path2:  data/user-create-catalog/image2.tif\n"
     ]
    }
   ],
   "source": [
    "# Fetch and store data\n",
    "url1 = ('https://spacenet-dataset.s3.amazonaws.com/'\n",
    "       'spacenet/SN5_roads/train/AOI_7_Moscow/MS/'\n",
    "       'SN5_roads_train_AOI_7_Moscow_MS_chip996.tif')\n",
    "urllib.request.urlretrieve(url1, img_path1)\n",
    "\n",
    "url2 = ('https://spacenet-dataset.s3.amazonaws.com/'\n",
    "       'spacenet/SN5_roads/train/AOI_7_Moscow/MS/'\n",
    "       'SN5_roads_train_AOI_7_Moscow_MS_chip997.tif')\n",
    "urllib.request.urlretrieve(url2, img_path2)\n",
    "\n",
    "print(\"img_path1: \" , img_path1, \"\\n\", \"img_path2: \", img_path2)"
   ]
  },
  {
   "cell_type": "markdown",
   "id": "cf27ec0d",
   "metadata": {},
   "source": [
    "### Importing images from external STAC Catalog APIs\n",
    "\n",
    "There are external STAC APIs available on the internet that we can query. Below are some tutorials that explains this. Please consult them if you have interest."
   ]
  },
  {
   "cell_type": "markdown",
   "id": "b4a72ef0",
   "metadata": {},
   "source": [
    "See this [tutorial for accessing NAIP data with the Planetary Computer STAC API](https://github.com/microsoft/PlanetaryComputerExamples/blob/main/datasets/naip/naip-example.ipynb)\n",
    "\n",
    "See this [tutorial for accessing 3DEP Lidar COG data with the Planetary Computer STAC API](https://github.com/microsoft/PlanetaryComputerExamples/blob/main/datasets/3dep-lidar/3dep-lidar-cog-example.ipynb)"
   ]
  },
  {
   "cell_type": "markdown",
   "id": "dc939eef",
   "metadata": {},
   "source": [
    "### Creating STAC catalog with collection and items using PySTAC.\n",
    "\n",
    "The new images imported from the first section are just that, images. We can use the PySTAC package to create STAC Items and STAC Collections that can be uploaded to our STAC API. The following section showcases this."
   ]
  },
  {
   "cell_type": "code",
   "execution_count": 5,
   "id": "bb79405a",
   "metadata": {
    "tags": []
   },
   "outputs": [],
   "source": [
    "import pystac"
   ]
  },
  {
   "cell_type": "code",
   "execution_count": 6,
   "id": "a978f897",
   "metadata": {
    "tags": []
   },
   "outputs": [
    {
     "name": "stdout",
     "output_type": "stream",
     "text": [
      "A PySTAC Catalog represents a STAC catalog in memory.\n",
      "\n",
      "    A Catalog is a :class:`~pystac.STACObject` that may contain children,\n",
      "    which are instances of :class:`~pystac.Catalog` or :class:`~pystac.Collection`,\n",
      "    as well as :class:`~pystac.Item` s.\n",
      "\n",
      "    Args:\n",
      "        id : Identifier for the catalog. Must be unique within the STAC.\n",
      "        description : Detailed multi-line description to fully explain the catalog.\n",
      "            `CommonMark 0.29 syntax <https://commonmark.org/>`_ MAY be used for rich\n",
      "            text representation.\n",
      "        title : Optional short descriptive one-line title for the catalog.\n",
      "        stac_extensions : Optional list of extensions the Catalog implements.\n",
      "        href : Optional HREF for this catalog, which be set as the\n",
      "            catalog's self link's HREF.\n",
      "        catalog_type : Optional catalog type for this catalog. Must\n",
      "            be one of the values in :class:`~pystac.CatalogType`.\n",
      "        strategy : The layout strategy to use for setting the\n",
      "            HREFs of the catalog child objections and items.\n",
      "            If not provided, it will default to the strategy of the root and fallback to\n",
      "            :class:`~pystac.layout.BestPracticesLayoutStrategy`.\n",
      "    \n"
     ]
    }
   ],
   "source": [
    "print(pystac.Catalog.__doc__)"
   ]
  },
  {
   "cell_type": "markdown",
   "id": "34a405f3",
   "metadata": {},
   "source": [
    "Let's just give an ID and a description. We don't have to worry about the HREF right now;  that  will be set later."
   ]
  },
  {
   "cell_type": "code",
   "execution_count": 7,
   "id": "c114496d",
   "metadata": {
    "tags": []
   },
   "outputs": [],
   "source": [
    "catalog = pystac.Catalog(id='test-catalog', description='Tutorial catalog with Collection.')"
   ]
  },
  {
   "cell_type": "markdown",
   "id": "1eb42ee5",
   "metadata": {},
   "source": [
    "There are no children or items in the catalog, since we haven't added anything yet."
   ]
  },
  {
   "cell_type": "code",
   "execution_count": 8,
   "id": "7d909642",
   "metadata": {
    "tags": []
   },
   "outputs": [
    {
     "name": "stdout",
     "output_type": "stream",
     "text": [
      "[]\n",
      "[]\n"
     ]
    }
   ],
   "source": [
    "print(list(catalog.get_children()))\n",
    "print(list(catalog.get_items()))"
   ]
  },
  {
   "cell_type": "markdown",
   "id": "f31188cf",
   "metadata": {},
   "source": [
    "We'll now create an Item to represent the image. Check the pydocs to see what you need to supply:"
   ]
  },
  {
   "cell_type": "code",
   "execution_count": 9,
   "id": "cf364b78",
   "metadata": {
    "tags": []
   },
   "outputs": [
    {
     "name": "stdout",
     "output_type": "stream",
     "text": [
      "An Item is the core granular entity in a STAC, containing the core metadata\n",
      "    that enables any client to search or crawl online catalogs of spatial 'assets' -\n",
      "    satellite imagery, derived data, DEM's, etc.\n",
      "\n",
      "    Args:\n",
      "        id : Provider identifier. Must be unique within the STAC.\n",
      "        geometry : Defines the full footprint of the asset represented by this\n",
      "            item, formatted according to\n",
      "            `RFC 7946, section 3.1 (GeoJSON) <https://tools.ietf.org/html/rfc7946>`_.\n",
      "        bbox :  Bounding Box of the asset represented by this item\n",
      "            using either 2D or 3D geometries. The length of the array must be 2*n\n",
      "            where n is the number of dimensions. Could also be None in the case of a\n",
      "            null geometry.\n",
      "        datetime : datetime associated with this item. If None,\n",
      "            a start_datetime and end_datetime must be supplied.\n",
      "        properties : A dictionary of additional metadata for the item.\n",
      "        start_datetime : Optional start datetime, part of common metadata. This value\n",
      "            will override any `start_datetime` key in properties.\n",
      "        end_datetime : Optional end datetime, part of common metadata. This value\n",
      "            will override any `end_datetime` key in properties.\n",
      "        stac_extensions : Optional list of extensions the Item implements.\n",
      "        href : Optional HREF for this item, which be set as the item's\n",
      "            self link's HREF.\n",
      "        collection : The Collection or Collection ID that this item\n",
      "            belongs to.\n",
      "        extra_fields : Extra fields that are part of the top-level JSON\n",
      "            properties of the Item.\n",
      "        assets : A dictionary mapping string keys to :class:`~pystac.Asset` objects. All\n",
      "            :class:`~pystac.Asset` values in the dictionary will have their\n",
      "            :attr:`~pystac.Asset.owner` attribute set to the created Item.\n",
      "    \n"
     ]
    }
   ],
   "source": [
    "print(pystac.Item.__doc__)"
   ]
  },
  {
   "cell_type": "markdown",
   "id": "264c7420",
   "metadata": {},
   "source": [
    "Using [rasterio](https://rasterio.readthedocs.io/en/stable/), we can pull out the bounding box of the image to use for the image metadata. If the image contained a NoData border, we would ideally pull out the footprint and save it as the geometry; in this case, we're working with a small chip that most likely has no NoData values."
   ]
  },
  {
   "cell_type": "code",
   "execution_count": 10,
   "id": "80073130",
   "metadata": {
    "tags": []
   },
   "outputs": [],
   "source": [
    "import rasterio\n",
    "from shapely.geometry import Polygon, mapping\n",
    "\n",
    "def get_bbox_and_footprint(raster_uri):\n",
    "    with rasterio.open(raster_uri) as ds:\n",
    "        bounds = ds.bounds\n",
    "        bbox = [bounds.left, bounds.bottom, bounds.right, bounds.top]\n",
    "        footprint = Polygon([\n",
    "            [bounds.left, bounds.bottom],\n",
    "            [bounds.left, bounds.top],\n",
    "            [bounds.right, bounds.top],\n",
    "            [bounds.right, bounds.bottom]\n",
    "        ])\n",
    "        \n",
    "        return (bbox, mapping(footprint))"
   ]
  },
  {
   "cell_type": "code",
   "execution_count": 11,
   "id": "09d04cd8",
   "metadata": {
    "tags": []
   },
   "outputs": [
    {
     "name": "stdout",
     "output_type": "stream",
     "text": [
      "[37.6616853489879, 55.73478197572927, 37.66573047610874, 55.73882710285011]\n",
      "{'type': 'Polygon', 'coordinates': (((37.6616853489879, 55.73478197572927), (37.6616853489879, 55.73882710285011), (37.66573047610874, 55.73882710285011), (37.66573047610874, 55.73478197572927), (37.6616853489879, 55.73478197572927)),)}\n"
     ]
    }
   ],
   "source": [
    "# Run the function and print out the results for image 1\n",
    "bbox, footprint = get_bbox_and_footprint(img_path1)\n",
    "print(bbox)\n",
    "print(footprint)"
   ]
  },
  {
   "cell_type": "code",
   "execution_count": 12,
   "id": "e0090545",
   "metadata": {
    "tags": []
   },
   "outputs": [
    {
     "name": "stdout",
     "output_type": "stream",
     "text": [
      "bbox:  [37.67786535472783, 55.726691972859314, 37.68191048184866, 55.730737099980146] \n",
      "\n",
      "footprint:  {'type': 'Polygon', 'coordinates': (((37.67786535472783, 55.726691972859314), (37.67786535472783, 55.730737099980146), (37.68191048184866, 55.730737099980146), (37.68191048184866, 55.726691972859314), (37.67786535472783, 55.726691972859314)),)}\n"
     ]
    }
   ],
   "source": [
    "# Run the function and print out the results for image 2\n",
    "bbox2, footprint2 = get_bbox_and_footprint(img_path2)\n",
    "print(\"bbox: \", bbox2, \"\\n\")\n",
    "print(\"footprint: \", footprint2)"
   ]
  },
  {
   "cell_type": "code",
   "execution_count": 13,
   "id": "f5c0a315",
   "metadata": {
    "tags": []
   },
   "outputs": [],
   "source": [
    "### Add band information from [WorldView-3 Data Sheet](https://www.spaceimagingme.com/downloads/sensors/datasheets/DG_WorldView3_DS_2014.pdf)\n",
    "from pystac.extensions.eo import Band, EOExtension\n",
    "wv3_bands = [Band.create(name='Coastal', description='Coastal: 400 - 450 nm', common_name='coastal'),\n",
    "             Band.create(name='Blue', description='Blue: 450 - 510 nm', common_name='blue'),\n",
    "             Band.create(name='Green', description='Green: 510 - 580 nm', common_name='green'),\n",
    "             Band.create(name='Yellow', description='Yellow: 585 - 625 nm', common_name='yellow'),\n",
    "             Band.create(name='Red', description='Red: 630 - 690 nm', common_name='red'),\n",
    "             Band.create(name='Red Edge', description='Red Edge: 705 - 745 nm', common_name='rededge'),\n",
    "             Band.create(name='Near-IR1', description='Near-IR1: 770 - 895 nm', common_name='nir08'),\n",
    "             Band.create(name='Near-IR2', description='Near-IR2: 860 - 1040 nm', common_name='nir09')]"
   ]
  },
  {
   "cell_type": "markdown",
   "id": "fa68e695",
   "metadata": {},
   "source": [
    "Beyond what a Catalog requires, a Collection requires a license of the data in the collection and an extent that describes the range of space and time that the items it holds occupy.\n",
    "\n",
    "An extent is comprised of a SpatialExtent and a TemporalExtent. These extents hold one or more bounding boxes and time intervals, respectively, that completely cover the items contained in the collections.\n",
    "\n",
    "Let's start with creating two new items - these will be core items. We can set these items to implement the EO extension by specifying them in the stac_extensions.\n",
    "\n",
    "We're also using `datetime.utcnow()` to supply the required datetime property for our Item. Since this is a required property, you might often find yourself making up a time to fill in if you don't know the exact capture time."
   ]
  },
  {
   "cell_type": "code",
   "execution_count": 14,
   "id": "a4dd6b35",
   "metadata": {
    "tags": []
   },
   "outputs": [],
   "source": [
    "from datetime import datetime, timezone\n",
    "\n",
    "### STAC Item 1\n",
    "collection_item = pystac.Item(id='local-image-col-1',\n",
    "                               geometry=footprint,\n",
    "                               bbox=bbox,\n",
    "                               datetime=datetime.now(timezone.utc),\n",
    "                               properties={})\n",
    "\n",
    "collection_item.common_metadata.gsd = 0.3\n",
    "collection_item.common_metadata.platform = 'Maxar'\n",
    "collection_item.common_metadata.instruments = ['WorldView3']\n",
    "\n",
    "asset = pystac.Asset(href=img_path1, \n",
    "                      media_type=pystac.MediaType.GEOTIFF)\n",
    "collection_item.add_asset(\"image\", asset)\n",
    "eo = EOExtension.ext(collection_item.assets[\"image\"], add_if_missing=True)\n",
    "eo.apply(wv3_bands)\n",
    "\n",
    "### STAC Item 2\n",
    "collection_item2 = pystac.Item(id='local-image-col-2',\n",
    "                               geometry=footprint2,\n",
    "                               bbox=bbox2,\n",
    "                               datetime=datetime.now(timezone.utc),\n",
    "                               properties={})\n",
    "\n",
    "collection_item2.common_metadata.gsd = 0.3\n",
    "collection_item2.common_metadata.platform = 'Maxar'\n",
    "collection_item2.common_metadata.instruments = ['WorldView3']\n",
    "\n",
    "asset2 = pystac.Asset(href=img_path2,\n",
    "                     media_type=pystac.MediaType.GEOTIFF)\n",
    "collection_item2.add_asset(\"image\", asset2)\n",
    "eo = EOExtension.ext(collection_item2.assets[\"image\"], add_if_missing=True)\n",
    "eo.apply([\n",
    "    band for band in wv3_bands if band.name in [\"Red\", \"Green\", \"Blue\"]\n",
    "])"
   ]
  },
  {
   "cell_type": "markdown",
   "id": "2c8a73f0",
   "metadata": {},
   "source": [
    "We can use our two items' metadata to find out what the proper bounds are:"
   ]
  },
  {
   "cell_type": "code",
   "execution_count": 15,
   "id": "a048eaae",
   "metadata": {
    "tags": []
   },
   "outputs": [],
   "source": [
    "from shapely.geometry import shape\n",
    "\n",
    "# Calculate spatial extent for Collection.\n",
    "unioned_footprint = shape(footprint).union(shape(footprint2))\n",
    "collection_bbox = list(unioned_footprint.bounds)\n",
    "spatial_extent = pystac.SpatialExtent(bboxes=[collection_bbox])\n",
    "\n",
    "# Calculate temporal extend for Collection\n",
    "collection_interval = sorted([collection_item.datetime, collection_item2.datetime])\n",
    "temporal_extent = pystac.TemporalExtent(intervals=[collection_interval])\n",
    "\n",
    "# Combine spatial and temporal extends.\n",
    "collection_extent = pystac.Extent(spatial=spatial_extent, temporal=temporal_extent)\n"
   ]
  },
  {
   "cell_type": "code",
   "execution_count": 16,
   "id": "c392b834",
   "metadata": {
    "tags": []
   },
   "outputs": [],
   "source": [
    "collection = pystac.Collection(id='wv3-images',\n",
    "                               description='Spacenet 5 images over Moscow',\n",
    "                               extent=collection_extent,\n",
    "                               license='CC-BY-SA-4.0')"
   ]
  },
  {
   "cell_type": "code",
   "execution_count": 17,
   "id": "c31defaf",
   "metadata": {
    "tags": []
   },
   "outputs": [
    {
     "data": {
      "text/html": [
       "&lt;Link rel=child target=&lt;Collection id=wv3-images&gt;&gt;"
      ],
      "text/plain": [
       "<Link rel=child target=<Collection id=wv3-images>>"
      ]
     },
     "execution_count": 17,
     "metadata": {},
     "output_type": "execute_result"
    }
   ],
   "source": [
    "collection.add_items([collection_item, collection_item2])\n",
    "catalog.add_child(collection)"
   ]
  },
  {
   "cell_type": "markdown",
   "id": "1b1ce1e5",
   "metadata": {},
   "source": [
    "`describe()` is a useful method on `Catalog` - but be careful when using it on large catalogs, as it will walk the entire tree of the STAC."
   ]
  },
  {
   "cell_type": "code",
   "execution_count": 18,
   "id": "f7c507ce",
   "metadata": {
    "tags": []
   },
   "outputs": [
    {
     "name": "stdout",
     "output_type": "stream",
     "text": [
      "* <Catalog id=test-catalog>\n",
      "    * <Collection id=wv3-images>\n",
      "      * <Item id=local-image-col-1>\n",
      "      * <Item id=local-image-col-2>\n"
     ]
    }
   ],
   "source": [
    "catalog.describe()"
   ]
  },
  {
   "cell_type": "markdown",
   "id": "48e650c1",
   "metadata": {},
   "source": [
    "### Saving the catalog to a local directory.\n",
    "\n",
    "The current STAC Catalog is in memory of this local machine. We can save this Catalog as JSON files on a local folder."
   ]
  },
  {
   "cell_type": "markdown",
   "id": "82cbedd4",
   "metadata": {},
   "source": [
    "There are still no HREFs set on these in-memory items. PySTAC uses the `self` link on STAC objects to track where the file lives. Because we haven't set them, they evaluate to `None`:"
   ]
  },
  {
   "cell_type": "code",
   "execution_count": 19,
   "id": "63d8c6b3",
   "metadata": {
    "tags": []
   },
   "outputs": [
    {
     "name": "stdout",
     "output_type": "stream",
     "text": [
      "None\n"
     ]
    }
   ],
   "source": [
    "print(catalog.get_self_href())"
   ]
  },
  {
   "cell_type": "markdown",
   "id": "6e6e569b",
   "metadata": {},
   "source": [
    "In order to set them, we can use `normalize_hrefs`. This method will create a normalized set of HREFs for each STAC object in the catalog, according to the [best practices document](https://github.com/radiantearth/stac-spec/blob/v0.8.1/best-practices.md#catalog-layout)'s recommendations on how to lay out a catalog."
   ]
  },
  {
   "cell_type": "code",
   "execution_count": 20,
   "id": "24444c58",
   "metadata": {
    "tags": []
   },
   "outputs": [],
   "source": [
    "catalog.normalize_hrefs(os.path.join(tmp_dir, 'stac-collection'))"
   ]
  },
  {
   "cell_type": "markdown",
   "id": "5c1e3589",
   "metadata": {},
   "source": [
    "Now that we've normalized to a root directory (the temporary directory), we see that the `self` links are set:"
   ]
  },
  {
   "cell_type": "code",
   "execution_count": 21,
   "id": "25e66c32",
   "metadata": {
    "tags": []
   },
   "outputs": [
    {
     "name": "stdout",
     "output_type": "stream",
     "text": [
      "/home/ec2-user/SageMaker/data/user-create-catalog/stac-collection/catalog.json\n"
     ]
    }
   ],
   "source": [
    "print(catalog.get_self_href())"
   ]
  },
  {
   "cell_type": "markdown",
   "id": "c3af643d",
   "metadata": {},
   "source": [
    "We can now call `save` on the catalog, which will recursively save all the STAC objects to their respective self HREFs.\n",
    "\n",
    "Save requires a `CatalogType` to be set. You can review the [API docs](https://pystac.readthedocs.io/en/stable/api.html#catalogtype) on `CatalogType` to see what each type means (unfortunately `help` doesn't show docstrings for attributes)."
   ]
  },
  {
   "cell_type": "code",
   "execution_count": 22,
   "id": "215228fe",
   "metadata": {
    "tags": []
   },
   "outputs": [],
   "source": [
    "catalog.save(catalog_type=pystac.CatalogType.SELF_CONTAINED)"
   ]
  },
  {
   "cell_type": "code",
   "execution_count": 23,
   "id": "ea56dedb",
   "metadata": {
    "tags": []
   },
   "outputs": [
    {
     "name": "stdout",
     "output_type": "stream",
     "text": [
      "data/user-create-catalog/stac-collection/catalog.json\n",
      "\n",
      "data/user-create-catalog/stac-collection/wv3-images:\n",
      "collection.json  local-image-col-1  local-image-col-2\n"
     ]
    }
   ],
   "source": [
    "!ls {tmp_dir}/stac-collection/*"
   ]
  },
  {
   "cell_type": "code",
   "execution_count": 24,
   "id": "ba8055cb",
   "metadata": {
    "tags": []
   },
   "outputs": [
    {
     "name": "stdout",
     "output_type": "stream",
     "text": [
      "{\n",
      "  \"type\": \"Catalog\",\n",
      "  \"id\": \"test-catalog\",\n",
      "  \"stac_version\": \"1.0.0\",\n",
      "  \"description\": \"Tutorial catalog with Collection.\",\n",
      "  \"links\": [\n",
      "    {\n",
      "      \"rel\": \"root\",\n",
      "      \"href\": \"./catalog.json\",\n",
      "      \"type\": \"application/json\"\n",
      "    },\n",
      "    {\n",
      "      \"rel\": \"child\",\n",
      "      \"href\": \"./wv3-images/collection.json\",\n",
      "      \"type\": \"application/json\"\n",
      "    }\n",
      "  ]\n",
      "}\n"
     ]
    }
   ],
   "source": [
    "# Investigate the JSON file that reperesents the STAC Catalog.\n",
    "with open(catalog.self_href) as f:\n",
    "    print(f.read())"
   ]
  },
  {
   "cell_type": "code",
   "execution_count": 25,
   "id": "3e2c534b",
   "metadata": {
    "tags": []
   },
   "outputs": [
    {
     "name": "stdout",
     "output_type": "stream",
     "text": [
      "{\n",
      "  \"type\": \"Collection\",\n",
      "  \"id\": \"wv3-images\",\n",
      "  \"stac_version\": \"1.0.0\",\n",
      "  \"description\": \"Spacenet 5 images over Moscow\",\n",
      "  \"links\": [\n",
      "    {\n",
      "      \"rel\": \"root\",\n",
      "      \"href\": \"../catalog.json\",\n",
      "      \"type\": \"application/json\"\n",
      "    },\n",
      "    {\n",
      "      \"rel\": \"item\",\n",
      "      \"href\": \"./local-image-col-1/local-image-col-1.json\",\n",
      "      \"type\": \"application/json\"\n",
      "    },\n",
      "    {\n",
      "      \"rel\": \"item\",\n",
      "      \"href\": \"./local-image-col-2/local-image-col-2.json\",\n",
      "      \"type\": \"application/json\"\n",
      "    },\n",
      "    {\n",
      "      \"rel\": \"parent\",\n",
      "      \"href\": \"../catalog.json\",\n",
      "      \"type\": \"application/json\"\n",
      "    }\n",
      "  ],\n",
      "  \"extent\": {\n",
      "    \"spatial\": {\n",
      "      \"bbox\": [\n",
      "        [\n",
      "          37.6616853489879,\n",
      "          55.726691972859314,\n",
      "          37.68191048184866,\n",
      "          55.73882710285011\n",
      "        ]\n",
      "      ]\n",
      "    },\n",
      "    \"temporal\": {\n",
      "      \"interval\": [\n",
      "        [\n",
      "          \"2024-06-01T18:36:49.324493Z\",\n",
      "          \"2024-06-01T18:36:49.324852Z\"\n",
      "        ]\n",
      "      ]\n",
      "    }\n",
      "  },\n",
      "  \"license\": \"CC-BY-SA-4.0\"\n",
      "}\n"
     ]
    }
   ],
   "source": [
    "# Investigate the JSON file that reperesents the STAC Collection.\n",
    "with open(collection.self_href) as f:\n",
    "    print(f.read())"
   ]
  },
  {
   "cell_type": "code",
   "execution_count": 26,
   "id": "490db939",
   "metadata": {
    "tags": []
   },
   "outputs": [
    {
     "name": "stdout",
     "output_type": "stream",
     "text": [
      "{\n",
      "  \"type\": \"Feature\",\n",
      "  \"stac_version\": \"1.0.0\",\n",
      "  \"id\": \"local-image-col-1\",\n",
      "  \"properties\": {\n",
      "    \"gsd\": 0.3,\n",
      "    \"platform\": \"Maxar\",\n",
      "    \"instruments\": [\n",
      "      \"WorldView3\"\n",
      "    ],\n",
      "    \"datetime\": \"2024-06-01T18:36:49.324493Z\"\n",
      "  },\n",
      "  \"geometry\": {\n",
      "    \"type\": \"Polygon\",\n",
      "    \"coordinates\": [\n",
      "      [\n",
      "        [\n",
      "          37.6616853489879,\n",
      "          55.73478197572927\n",
      "        ],\n",
      "        [\n",
      "          37.6616853489879,\n",
      "          55.73882710285011\n",
      "        ],\n",
      "        [\n",
      "          37.66573047610874,\n",
      "          55.73882710285011\n",
      "        ],\n",
      "        [\n",
      "          37.66573047610874,\n",
      "          55.73478197572927\n",
      "        ],\n",
      "        [\n",
      "          37.6616853489879,\n",
      "          55.73478197572927\n",
      "        ]\n",
      "      ]\n",
      "    ]\n",
      "  },\n",
      "  \"links\": [\n",
      "    {\n",
      "      \"rel\": \"root\",\n",
      "      \"href\": \"../../catalog.json\",\n",
      "      \"type\": \"application/json\"\n",
      "    },\n",
      "    {\n",
      "      \"rel\": \"collection\",\n",
      "      \"href\": \"../collection.json\",\n",
      "      \"type\": \"application/json\"\n",
      "    },\n",
      "    {\n",
      "      \"rel\": \"parent\",\n",
      "      \"href\": \"../collection.json\",\n",
      "      \"type\": \"application/json\"\n",
      "    }\n",
      "  ],\n",
      "  \"assets\": {\n",
      "    \"image\": {\n",
      "      \"href\": \"data/user-create-catalog/image1.tif\",\n",
      "      \"type\": \"image/tiff; application=geotiff\",\n",
      "      \"eo:bands\": [\n",
      "        {\n",
      "          \"name\": \"Coastal\",\n",
      "          \"common_name\": \"coastal\",\n",
      "          \"description\": \"Coastal: 400 - 450 nm\"\n",
      "        },\n",
      "        {\n",
      "          \"name\": \"Blue\",\n",
      "          \"common_name\": \"blue\",\n",
      "          \"description\": \"Blue: 450 - 510 nm\"\n",
      "        },\n",
      "        {\n",
      "          \"name\": \"Green\",\n",
      "          \"common_name\": \"green\",\n",
      "          \"description\": \"Green: 510 - 580 nm\"\n",
      "        },\n",
      "        {\n",
      "          \"name\": \"Yellow\",\n",
      "          \"common_name\": \"yellow\",\n",
      "          \"description\": \"Yellow: 585 - 625 nm\"\n",
      "        },\n",
      "        {\n",
      "          \"name\": \"Red\",\n",
      "          \"common_name\": \"red\",\n",
      "          \"description\": \"Red: 630 - 690 nm\"\n",
      "        },\n",
      "        {\n",
      "          \"name\": \"Red Edge\",\n",
      "          \"common_name\": \"rededge\",\n",
      "          \"description\": \"Red Edge: 705 - 745 nm\"\n",
      "        },\n",
      "        {\n",
      "          \"name\": \"Near-IR1\",\n",
      "          \"common_name\": \"nir08\",\n",
      "          \"description\": \"Near-IR1: 770 - 895 nm\"\n",
      "        },\n",
      "        {\n",
      "          \"name\": \"Near-IR2\",\n",
      "          \"common_name\": \"nir09\",\n",
      "          \"description\": \"Near-IR2: 860 - 1040 nm\"\n",
      "        }\n",
      "      ]\n",
      "    }\n",
      "  },\n",
      "  \"bbox\": [\n",
      "    37.6616853489879,\n",
      "    55.73478197572927,\n",
      "    37.66573047610874,\n",
      "    55.73882710285011\n",
      "  ],\n",
      "  \"stac_extensions\": [\n",
      "    \"https://stac-extensions.github.io/eo/v1.1.0/schema.json\"\n",
      "  ],\n",
      "  \"collection\": \"wv3-images\"\n",
      "}\n"
     ]
    }
   ],
   "source": [
    "# Investigate the JSON file that reperesents the STAC Item.\n",
    "with open(collection_item.self_href) as f:\n",
    "    print(f.read())"
   ]
  },
  {
   "cell_type": "markdown",
   "id": "67d1c278",
   "metadata": {},
   "source": [
    "### Upload STAC collection and items to STAC API <a id=\"upload-stac-api\"></a>\n",
    "\n",
    "We have so far converted the STAC Catalog from memory to JSON files in a local folder. Now we are ready to upload the JSON files from the local folder to our STAC API, so what we can geospatially query these STAC Items in the future."
   ]
  },
  {
   "cell_type": "code",
   "execution_count": 27,
   "id": "e1960d20",
   "metadata": {
    "tags": []
   },
   "outputs": [],
   "source": [
    "# Helper function to POST or PUT to the local STAC API.\n",
    "def post_or_put(url: str, data: dict):\n",
    "    \"\"\"Post or put data to url.\"\"\"\n",
    "    r = requests.post(url, json=data)\n",
    "    if r.status_code == 409:\n",
    "        new_url = url if data[\"type\"] == \"Collection\" else url + f\"/{data['id']}\"\n",
    "        # Exists, so update\n",
    "        r = requests.put(new_url, json=data)\n",
    "        # Unchanged may throw a 404\n",
    "        if not r.status_code == 404:\n",
    "            r.raise_for_status()\n",
    "    else:\n",
    "        r.raise_for_status()"
   ]
  },
  {
   "cell_type": "code",
   "execution_count": 28,
   "id": "cf599cdd",
   "metadata": {
    "tags": []
   },
   "outputs": [],
   "source": [
    "import json\n",
    "from urllib.parse import urljoin\n",
    "\n",
    "app_host = APP_HOST # Update with your STAC API endpoint.\n",
    "\n",
    "# Upload the STAC Collection to the STAC API\n",
    "with open(os.path.join(tmp_dir, 'stac-collection/wv3-images/collection.json')) as f:\n",
    "        collection = json.load(f)\n",
    "\n",
    "post_or_put(urljoin(app_host, \"/collections\"), collection)"
   ]
  },
  {
   "cell_type": "code",
   "execution_count": 29,
   "id": "0b7e433a",
   "metadata": {
    "tags": []
   },
   "outputs": [],
   "source": [
    "import os\n",
    "import json\n",
    "from urllib.parse import urljoin\n",
    "from pathlib import Path\n",
    "\n",
    "app_host = APP_HOST # Update with your STAC API endpoint.\n",
    "\n",
    "# Upload the STAC items to the STAC API Collection\n",
    "root_folder = Path(os.path.join(tmp_dir, 'stac-collection/wv3-images/'))\n",
    "img_dirs = [folder for folder in root_folder.iterdir() if folder.is_dir()]\n",
    "for img_dir in img_dirs:\n",
    "    json_files = img_dir.glob(\"*.json\")\n",
    "    for json_file in json_files:\n",
    "        with open(json_file) as f:\n",
    "            img_json = json.load(f)\n",
    "\n",
    "        post_or_put(urljoin(app_host, f\"collections/{collection['id']}/items\"), img_json)"
   ]
  },
  {
   "cell_type": "markdown",
   "id": "4c32dc12",
   "metadata": {},
   "source": [
    "## 3. Query images from STAC API.\n",
    "\n",
    "Now that the STAC Items also live on the STAC API, we can geospatially query the items that we are interested in."
   ]
  },
  {
   "cell_type": "markdown",
   "id": "62cde8da",
   "metadata": {},
   "source": [
    "### Query based on Item ID\n",
    "\n",
    "STAC Items can be queried from a specific image ID you are interested in."
   ]
  },
  {
   "cell_type": "code",
   "execution_count": 30,
   "id": "7d3f27d9",
   "metadata": {
    "tags": []
   },
   "outputs": [
    {
     "name": "stdout",
     "output_type": "stream",
     "text": [
      "STAC API responded successfully. Congratulations!\n"
     ]
    }
   ],
   "source": [
    "import requests\n",
    "\n",
    "app_host = APP_HOST # Update with your STAC API endpoint.\n",
    "collection = \"wv3-images\"\n",
    "item_id = \"local-image-col-1\"\n",
    "\n",
    "response = requests.get(urljoin(app_host, \"/collections/\" + collection + \"/items/\" + item_id))\n",
    "if response.status_code == 200:\n",
    "    print('STAC API responded successfully. Congratulations!')\n",
    "else:\n",
    "    print('STAC API NOT responded successfully. Something went wrong!')"
   ]
  },
  {
   "cell_type": "code",
   "execution_count": 31,
   "id": "a7ce83d6",
   "metadata": {
    "tags": []
   },
   "outputs": [
    {
     "name": "stdout",
     "output_type": "stream",
     "text": [
      "Returned STAC Item:\n"
     ]
    },
    {
     "data": {
      "text/plain": [
       "{'id': 'local-image-col-1',\n",
       " 'bbox': [37.6616853489879,\n",
       "  55.73478197572927,\n",
       "  37.66573047610874,\n",
       "  55.73882710285011],\n",
       " 'type': 'Feature',\n",
       " 'links': [{'rel': 'collection',\n",
       "   'type': 'application/json',\n",
       "   'href': 'http://internal-stacapi-lb-1304670335.us-east-1.elb.amazonaws.com:8080/collections/wv3-images'},\n",
       "  {'rel': 'parent',\n",
       "   'type': 'application/json',\n",
       "   'href': 'http://internal-stacapi-lb-1304670335.us-east-1.elb.amazonaws.com:8080/collections/wv3-images'},\n",
       "  {'rel': 'root',\n",
       "   'type': 'application/json',\n",
       "   'href': 'http://internal-stacapi-lb-1304670335.us-east-1.elb.amazonaws.com:8080/'},\n",
       "  {'rel': 'self',\n",
       "   'type': 'application/geo+json',\n",
       "   'href': 'http://internal-stacapi-lb-1304670335.us-east-1.elb.amazonaws.com:8080/collections/wv3-images/items/local-image-col-1'}],\n",
       " 'assets': {'image': {'href': 'data/user-create-catalog/image1.tif',\n",
       "   'type': 'image/tiff; application=geotiff',\n",
       "   'eo:bands': [{'name': 'Coastal',\n",
       "     'common_name': 'coastal',\n",
       "     'description': 'Coastal: 400 - 450 nm'},\n",
       "    {'name': 'Blue',\n",
       "     'common_name': 'blue',\n",
       "     'description': 'Blue: 450 - 510 nm'},\n",
       "    {'name': 'Green',\n",
       "     'common_name': 'green',\n",
       "     'description': 'Green: 510 - 580 nm'},\n",
       "    {'name': 'Yellow',\n",
       "     'common_name': 'yellow',\n",
       "     'description': 'Yellow: 585 - 625 nm'},\n",
       "    {'name': 'Red', 'common_name': 'red', 'description': 'Red: 630 - 690 nm'},\n",
       "    {'name': 'Red Edge',\n",
       "     'common_name': 'rededge',\n",
       "     'description': 'Red Edge: 705 - 745 nm'},\n",
       "    {'name': 'Near-IR1',\n",
       "     'common_name': 'nir08',\n",
       "     'description': 'Near-IR1: 770 - 895 nm'},\n",
       "    {'name': 'Near-IR2',\n",
       "     'common_name': 'nir09',\n",
       "     'description': 'Near-IR2: 860 - 1040 nm'}]}},\n",
       " 'geometry': {'type': 'Polygon',\n",
       "  'coordinates': [[[37.6616853489879, 55.73478197572927],\n",
       "    [37.6616853489879, 55.73882710285011],\n",
       "    [37.66573047610874, 55.73882710285011],\n",
       "    [37.66573047610874, 55.73478197572927],\n",
       "    [37.6616853489879, 55.73478197572927]]]},\n",
       " 'collection': 'wv3-images',\n",
       " 'properties': {'gsd': 0.3,\n",
       "  'datetime': '2024-06-01T18:36:49.324493Z',\n",
       "  'platform': 'Maxar',\n",
       "  'instruments': ['WorldView3']},\n",
       " 'stac_version': '1.0.0',\n",
       " 'stac_extensions': ['https://stac-extensions.github.io/eo/v1.1.0/schema.json']}"
      ]
     },
     "execution_count": 31,
     "metadata": {},
     "output_type": "execute_result"
    }
   ],
   "source": [
    "import json\n",
    "\n",
    "# Parse the JSON data response\n",
    "print(\"Returned STAC Item:\")\n",
    "response.json()"
   ]
  },
  {
   "cell_type": "code",
   "execution_count": 32,
   "id": "d2b94d3e",
   "metadata": {
    "tags": []
   },
   "outputs": [
    {
     "name": "stdout",
     "output_type": "stream",
     "text": [
      "The asset of the returned STAC Item is located locally in: data/user-create-catalog/image1.tif\n"
     ]
    }
   ],
   "source": [
    "print(\"The asset of the returned STAC Item is located locally in:\", response.json().get(\"assets\").get(\"image\").get(\"href\"))"
   ]
  },
  {
   "cell_type": "markdown",
   "id": "f7c9239f",
   "metadata": {},
   "source": [
    "### Query based on Intersect\n",
    "\n",
    "STAC Items can be queried from a specific intersect point you are interested in."
   ]
  },
  {
   "cell_type": "code",
   "execution_count": 33,
   "id": "6f318711",
   "metadata": {
    "tags": []
   },
   "outputs": [
    {
     "data": {
      "text/plain": [
       "[37.66370791254832, 55.73680453928969]"
      ]
     },
     "execution_count": 33,
     "metadata": {},
     "output_type": "execute_result"
    }
   ],
   "source": [
    "from shapely.geometry import Point, Polygon\n",
    "\n",
    "# Define the polygon coordinates for one of the images in the STAC API collection wv3-images.\n",
    "polygon_coordinates = [\n",
    "    [37.6616853489879, 55.73478197572927],\n",
    "    [37.6616853489879, 55.73882710285011],\n",
    "    [37.66573047610874, 55.73882710285011],\n",
    "    [37.66573047610874, 55.73478197572927]\n",
    "]\n",
    "\n",
    "# Create a Polygon object\n",
    "polygon = Polygon(polygon_coordinates)\n",
    "\n",
    "# Generate a random point within the polygon\n",
    "point_within_polygon = polygon.representative_point()\n",
    "\n",
    "# Extract the x and y coordinates of the point\n",
    "x = point_within_polygon.x\n",
    "y = point_within_polygon.y\n",
    "\n",
    "# Return the point coordinates as a tuple\n",
    "point_coordinates = [x, y]\n",
    "point_coordinates"
   ]
  },
  {
   "cell_type": "code",
   "execution_count": 34,
   "id": "ca7ccd18",
   "metadata": {
    "tags": []
   },
   "outputs": [
    {
     "name": "stdout",
     "output_type": "stream",
     "text": [
      "{'collections': 'wv3-images', 'intersects': {'type': 'Point', 'coordinates': [37.66370791254832, 55.73680453928969]}, 'limit': 10}\n",
      "STAC API responded successfully. Congratulations!\n"
     ]
    }
   ],
   "source": [
    "import requests\n",
    "import json\n",
    "\n",
    "### You can use the following to programmatically check the STAC API.\n",
    "\n",
    "app_host = APP_HOST # Update with your STAC API endpoint.\n",
    "collection = \"wv3-images\"\n",
    "point_coordinates = [x, y]\n",
    "limit = 10\n",
    "\n",
    "# Define the JSON payload\n",
    "payload = {\n",
    "    \"collections\": collection,\n",
    "    \"intersects\": {\n",
    "        \"type\": \"Point\",\n",
    "        \"coordinates\": point_coordinates\n",
    "    },\n",
    "    \"limit\": limit\n",
    "}\n",
    "print(payload)\n",
    "\n",
    "response = requests.get(urljoin(app_host, \"/collections/\" + collection + \"/items\"), params=payload)\n",
    "if response.status_code == 200:\n",
    "    print('STAC API responded successfully. Congratulations!')\n",
    "else:\n",
    "    print('STAC API NOT responded successfully. Something went wrong!')"
   ]
  },
  {
   "cell_type": "code",
   "execution_count": 35,
   "id": "93df45ff",
   "metadata": {
    "tags": []
   },
   "outputs": [
    {
     "name": "stdout",
     "output_type": "stream",
     "text": [
      "Returned STAC Item:\n"
     ]
    },
    {
     "data": {
      "text/plain": [
       "{'type': 'FeatureCollection',\n",
       " 'context': {'limit': 10, 'returned': 2},\n",
       " 'features': [{'id': 'local-image-col-2',\n",
       "   'bbox': [37.67786535472783,\n",
       "    55.726691972859314,\n",
       "    37.68191048184866,\n",
       "    55.730737099980146],\n",
       "   'type': 'Feature',\n",
       "   'links': [{'rel': 'collection',\n",
       "     'type': 'application/json',\n",
       "     'href': 'http://internal-stacapi-lb-1304670335.us-east-1.elb.amazonaws.com:8080/collections/wv3-images'},\n",
       "    {'rel': 'parent',\n",
       "     'type': 'application/json',\n",
       "     'href': 'http://internal-stacapi-lb-1304670335.us-east-1.elb.amazonaws.com:8080/collections/wv3-images'},\n",
       "    {'rel': 'root',\n",
       "     'type': 'application/json',\n",
       "     'href': 'http://internal-stacapi-lb-1304670335.us-east-1.elb.amazonaws.com:8080/'},\n",
       "    {'rel': 'self',\n",
       "     'type': 'application/geo+json',\n",
       "     'href': 'http://internal-stacapi-lb-1304670335.us-east-1.elb.amazonaws.com:8080/collections/wv3-images/items/local-image-col-2'}],\n",
       "   'assets': {'image': {'href': 'data/user-create-catalog/image2.tif',\n",
       "     'type': 'image/tiff; application=geotiff',\n",
       "     'eo:bands': [{'name': 'Blue',\n",
       "       'common_name': 'blue',\n",
       "       'description': 'Blue: 450 - 510 nm'},\n",
       "      {'name': 'Green',\n",
       "       'common_name': 'green',\n",
       "       'description': 'Green: 510 - 580 nm'},\n",
       "      {'name': 'Red',\n",
       "       'common_name': 'red',\n",
       "       'description': 'Red: 630 - 690 nm'}]}},\n",
       "   'geometry': {'type': 'Polygon',\n",
       "    'coordinates': [[[37.67786535472783, 55.726691972859314],\n",
       "      [37.67786535472783, 55.730737099980146],\n",
       "      [37.68191048184866, 55.730737099980146],\n",
       "      [37.68191048184866, 55.726691972859314],\n",
       "      [37.67786535472783, 55.726691972859314]]]},\n",
       "   'collection': 'wv3-images',\n",
       "   'properties': {'gsd': 0.3,\n",
       "    'datetime': '2024-06-01T18:36:49.324852Z',\n",
       "    'platform': 'Maxar',\n",
       "    'instruments': ['WorldView3']},\n",
       "   'stac_version': '1.0.0',\n",
       "   'stac_extensions': ['https://stac-extensions.github.io/eo/v1.1.0/schema.json']},\n",
       "  {'id': 'local-image-col-1',\n",
       "   'bbox': [37.6616853489879,\n",
       "    55.73478197572927,\n",
       "    37.66573047610874,\n",
       "    55.73882710285011],\n",
       "   'type': 'Feature',\n",
       "   'links': [{'rel': 'collection',\n",
       "     'type': 'application/json',\n",
       "     'href': 'http://internal-stacapi-lb-1304670335.us-east-1.elb.amazonaws.com:8080/collections/wv3-images'},\n",
       "    {'rel': 'parent',\n",
       "     'type': 'application/json',\n",
       "     'href': 'http://internal-stacapi-lb-1304670335.us-east-1.elb.amazonaws.com:8080/collections/wv3-images'},\n",
       "    {'rel': 'root',\n",
       "     'type': 'application/json',\n",
       "     'href': 'http://internal-stacapi-lb-1304670335.us-east-1.elb.amazonaws.com:8080/'},\n",
       "    {'rel': 'self',\n",
       "     'type': 'application/geo+json',\n",
       "     'href': 'http://internal-stacapi-lb-1304670335.us-east-1.elb.amazonaws.com:8080/collections/wv3-images/items/local-image-col-1'}],\n",
       "   'assets': {'image': {'href': 'data/user-create-catalog/image1.tif',\n",
       "     'type': 'image/tiff; application=geotiff',\n",
       "     'eo:bands': [{'name': 'Coastal',\n",
       "       'common_name': 'coastal',\n",
       "       'description': 'Coastal: 400 - 450 nm'},\n",
       "      {'name': 'Blue',\n",
       "       'common_name': 'blue',\n",
       "       'description': 'Blue: 450 - 510 nm'},\n",
       "      {'name': 'Green',\n",
       "       'common_name': 'green',\n",
       "       'description': 'Green: 510 - 580 nm'},\n",
       "      {'name': 'Yellow',\n",
       "       'common_name': 'yellow',\n",
       "       'description': 'Yellow: 585 - 625 nm'},\n",
       "      {'name': 'Red',\n",
       "       'common_name': 'red',\n",
       "       'description': 'Red: 630 - 690 nm'},\n",
       "      {'name': 'Red Edge',\n",
       "       'common_name': 'rededge',\n",
       "       'description': 'Red Edge: 705 - 745 nm'},\n",
       "      {'name': 'Near-IR1',\n",
       "       'common_name': 'nir08',\n",
       "       'description': 'Near-IR1: 770 - 895 nm'},\n",
       "      {'name': 'Near-IR2',\n",
       "       'common_name': 'nir09',\n",
       "       'description': 'Near-IR2: 860 - 1040 nm'}]}},\n",
       "   'geometry': {'type': 'Polygon',\n",
       "    'coordinates': [[[37.6616853489879, 55.73478197572927],\n",
       "      [37.6616853489879, 55.73882710285011],\n",
       "      [37.66573047610874, 55.73882710285011],\n",
       "      [37.66573047610874, 55.73478197572927],\n",
       "      [37.6616853489879, 55.73478197572927]]]},\n",
       "   'collection': 'wv3-images',\n",
       "   'properties': {'gsd': 0.3,\n",
       "    'datetime': '2024-06-01T18:36:49.324493Z',\n",
       "    'platform': 'Maxar',\n",
       "    'instruments': ['WorldView3']},\n",
       "   'stac_version': '1.0.0',\n",
       "   'stac_extensions': ['https://stac-extensions.github.io/eo/v1.1.0/schema.json']}],\n",
       " 'links': [{'rel': 'collection',\n",
       "   'type': 'application/json',\n",
       "   'href': 'http://internal-stacapi-lb-1304670335.us-east-1.elb.amazonaws.com:8080/collections/wv3-images'},\n",
       "  {'rel': 'parent',\n",
       "   'type': 'application/json',\n",
       "   'href': 'http://internal-stacapi-lb-1304670335.us-east-1.elb.amazonaws.com:8080/collections/wv3-images'},\n",
       "  {'rel': 'root',\n",
       "   'type': 'application/json',\n",
       "   'href': 'http://internal-stacapi-lb-1304670335.us-east-1.elb.amazonaws.com:8080/'},\n",
       "  {'rel': 'self',\n",
       "   'type': 'application/geo+json',\n",
       "   'href': 'http://internal-stacapi-lb-1304670335.us-east-1.elb.amazonaws.com:8080/collections/wv3-images/items'}]}"
      ]
     },
     "execution_count": 35,
     "metadata": {},
     "output_type": "execute_result"
    }
   ],
   "source": [
    "import json\n",
    "\n",
    "# Parse the JSON data response\n",
    "print(\"Returned STAC Item:\")\n",
    "response.json()"
   ]
  },
  {
   "cell_type": "markdown",
   "id": "e7736771",
   "metadata": {},
   "source": [
    "## 4. Working with STAC Collection and Items with S3 bucket.\n",
    "### Upload STAC collection and items to S3 bucket\n",
    "\n",
    "The created STAC collection and items as JSON files can also be uploaded to an S3 bucket. \n",
    "Then, these JSON files can be downloaded in the future and uploaded in a local STAC API."
   ]
  },
  {
   "cell_type": "code",
   "execution_count": 36,
   "id": "9be446e3",
   "metadata": {
    "tags": []
   },
   "outputs": [],
   "source": [
    "import boto3\n",
    "import os\n",
    "from botocore.exceptions import NoCredentialsError\n",
    "\n",
    "# Upload directory to S3\n",
    "def uploadDirectoryToS3(local_path, bucketname, destination_path, kms_key_alias=\"\"):\n",
    "    s3 = boto3.client('s3')\n",
    "    transfer = boto3.s3.transfer.S3Transfer(client=s3)\n",
    "    \n",
    "    for root, dirs, files in os.walk(local_path):\n",
    "        for file in files:\n",
    "            relative_path = os.path.relpath(os.path.join(root, file), local_path)\n",
    "            s3_key = os.path.join(destination_path, relative_path).replace(\"\\\\\", \"/\")\n",
    "            \n",
    "            if kms_key_alias == \"\":\n",
    "                transfer.upload_file(\n",
    "                    os.path.join(root, file),\n",
    "                    bucketname,\n",
    "                    s3_key\n",
    "                )\n",
    "            else:\n",
    "                transfer.upload_file(\n",
    "                    os.path.join(root, file),\n",
    "                    bucketname,\n",
    "                    s3_key,\n",
    "                    extra_args={\n",
    "                        'ServerSideEncryption': 'aws:kms',\n",
    "                        'SSEKMSKeyId': 'alias/' + kms_key_alias\n",
    "                    }\n",
    "                )"
   ]
  },
  {
   "cell_type": "code",
   "execution_count": 37,
   "id": "97e79c05",
   "metadata": {
    "tags": []
   },
   "outputs": [
    {
     "name": "stdout",
     "output_type": "stream",
     "text": [
      "STAC catalog in folder data/user-create-catalog uploaded to: data-bucket-5ndo/1-raw\n"
     ]
    }
   ],
   "source": [
    "# Upload STAC catalog to S3.\n",
    "import boto3\n",
    "\n",
    "# Create an S3 client with the above region\n",
    "s3 = boto3.client('s3')\n",
    "\n",
    "# Specify the bucket name and file name\n",
    "bucket_name = S3_BUCKET\n",
    "local_folder = 'data/user-create-catalog'\n",
    "destination_folder = '1-raw'\n",
    "\n",
    "# Upload the file to S3\n",
    "uploadDirectoryToS3(local_folder, bucket_name, destination_folder)\n",
    "print(\"STAC catalog in folder\", local_folder, \"uploaded to:\", os.path.join(bucket_name, destination_folder))"
   ]
  },
  {
   "cell_type": "markdown",
   "id": "14b3a58e",
   "metadata": {},
   "source": [
    "### Download STAC collection and items from S3 bucket\n",
    "\n",
    "STAC collection and items as JSON files can be downloaded from an S3 bucket. \n",
    "Then, these JSON files of STAC collection and items can be uploaded to a local STAC API."
   ]
  },
  {
   "cell_type": "code",
   "execution_count": 38,
   "id": "8b019ac9",
   "metadata": {
    "tags": []
   },
   "outputs": [],
   "source": [
    "import boto3\n",
    "import os \n",
    "\n",
    "def downloadDirectoryFromS3(bucketName, remote_folder, local_folder):\n",
    "    s3_resource = boto3.resource('s3')\n",
    "    bucket = s3_resource.Bucket(bucketName)\n",
    "    for obj in bucket.objects.filter(Prefix = remote_folder):\n",
    "        only_file_name = obj.key[len(remote_folder)+1:]\n",
    "        local_file = os.path.join(local_folder, only_file_name)\n",
    "        if not os.path.exists(os.path.dirname(local_file)):\n",
    "            os.makedirs(os.path.dirname(local_file))\n",
    "        bucket.download_file(obj.key, local_file)"
   ]
  },
  {
   "cell_type": "code",
   "execution_count": 39,
   "id": "5a751eb9",
   "metadata": {
    "tags": []
   },
   "outputs": [],
   "source": [
    "# Download STAC catalog from S3 to local folder.\n",
    "import boto3\n",
    "\n",
    "s3_client = boto3.client('s3')\n",
    "\n",
    "bucket_name = S3_BUCKET\n",
    "prefix = '1-raw'\n",
    "local_folder = 'data/user-download-catalog'\n",
    "\n",
    "downloadDirectoryFromS3(bucket_name, prefix, local_folder)"
   ]
  },
  {
   "cell_type": "markdown",
   "id": "560c0369",
   "metadata": {},
   "source": [
    "Now these downloaded STAC collection and items can be again uploaded to the local STAC API using the code snippets in [Upload STAC collection and items to local STAC API](#upload-stac-api)"
   ]
  },
  {
   "cell_type": "code",
   "execution_count": null,
   "id": "e4448a06",
   "metadata": {},
   "outputs": [],
   "source": []
  },
  {
   "cell_type": "code",
   "execution_count": null,
   "id": "cb807eab",
   "metadata": {},
   "outputs": [],
   "source": []
  },
  {
   "cell_type": "code",
   "execution_count": null,
   "id": "7e678755",
   "metadata": {},
   "outputs": [],
   "source": []
  }
 ],
 "metadata": {
  "kernelspec": {
   "display_name": "stacapi-notebook",
   "language": "python",
   "name": "python3"
  },
  "language_info": {
   "codemirror_mode": {
    "name": "ipython",
    "version": 3
   },
   "file_extension": ".py",
   "mimetype": "text/x-python",
   "name": "python",
   "nbconvert_exporter": "python",
   "pygments_lexer": "ipython3",
   "version": "3.12.3"
  }
 },
 "nbformat": 4,
 "nbformat_minor": 5
}
